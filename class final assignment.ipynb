{
 "cells": [
  {
   "cell_type": "code",
   "execution_count": 53,
   "id": "44bb0446",
   "metadata": {},
   "outputs": [],
   "source": [
    "from allf import allfun\n"
   ]
  },
  {
   "cell_type": "code",
   "execution_count": 56,
   "id": "c6cb7189",
   "metadata": {},
   "outputs": [
    {
     "name": "stdout",
     "output_type": "stream",
     "text": [
      "Sub-fields in AI are:\n",
      "Machine Learning \n",
      "Neural Networks\n",
      "Vision\n",
      "Robotics\n",
      "Speech Processing\n",
      "Natural Language Processing\n"
     ]
    }
   ],
   "source": [
    "allfun.Subfields()"
   ]
  },
  {
   "cell_type": "code",
   "execution_count": 59,
   "id": "e5b50a70",
   "metadata": {},
   "outputs": [
    {
     "name": "stdout",
     "output_type": "stream",
     "text": [
      "Enter a number:3\n",
      "3  is odd number\n"
     ]
    }
   ],
   "source": [
    "allfun.OddEven()"
   ]
  },
  {
   "cell_type": "code",
   "execution_count": 60,
   "id": "9acf9226",
   "metadata": {},
   "outputs": [
    {
     "name": "stdout",
     "output_type": "stream",
     "text": [
      "Your Gender:Male\n",
      "Your Age:21\n",
      "ELIGIBLE\n"
     ]
    }
   ],
   "source": [
    "allfun.Elegible()"
   ]
  },
  {
   "cell_type": "code",
   "execution_count": 61,
   "id": "b2bfc3fa",
   "metadata": {},
   "outputs": [
    {
     "name": "stdout",
     "output_type": "stream",
     "text": [
      "Subject1=10\n",
      "Subject2=20\n",
      "Subject3=30\n",
      "Subject4=40\n",
      "Subject5=50\n",
      "Total:  150\n",
      "Percentage:  30.0\n"
     ]
    }
   ],
   "source": [
    "allfun.percentage()"
   ]
  },
  {
   "cell_type": "code",
   "execution_count": 62,
   "id": "7a333a2c",
   "metadata": {},
   "outputs": [
    {
     "name": "stdout",
     "output_type": "stream",
     "text": [
      "Height: 2\n",
      "Breadth: 3\n",
      "Area formula: (Height*Breadth)/2\n",
      "Area of Triangle:  3.0\n",
      "Height1: 4\n",
      "Height2: 5\n",
      "Breadth: 6\n",
      "Perimeter formula: Height1+Height2+Breadth\n",
      "Perimeter of Triangle: 15\n"
     ]
    }
   ],
   "source": [
    "allfun.triangle()"
   ]
  },
  {
   "cell_type": "code",
   "execution_count": null,
   "id": "876b06ca",
   "metadata": {},
   "outputs": [],
   "source": []
  }
 ],
 "metadata": {
  "kernelspec": {
   "display_name": "Python 3 (ipykernel)",
   "language": "python",
   "name": "python3"
  },
  "language_info": {
   "codemirror_mode": {
    "name": "ipython",
    "version": 3
   },
   "file_extension": ".py",
   "mimetype": "text/x-python",
   "name": "python",
   "nbconvert_exporter": "python",
   "pygments_lexer": "ipython3",
   "version": "3.11.4"
  }
 },
 "nbformat": 4,
 "nbformat_minor": 5
}
