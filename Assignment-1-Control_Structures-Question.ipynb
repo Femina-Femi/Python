{
 "cells": [
  {
   "cell_type": "markdown",
   "id": "14823823",
   "metadata": {},
   "source": [
    "Assignment-1-Control Structures-Question"
   ]
  },
  {
   "cell_type": "markdown",
   "id": "df608a23",
   "metadata": {},
   "source": [
    "September 9, 2023"
   ]
  },
  {
   "cell_type": "code",
   "execution_count": 1,
   "id": "5cdc6a7a",
   "metadata": {},
   "outputs": [
    {
     "name": "stdout",
     "output_type": "stream",
     "text": [
      "Welcome to Assignment-1\n"
     ]
    }
   ],
   "source": [
    "print(\"Welcome to Assignment-1\")"
   ]
  },
  {
   "cell_type": "code",
   "execution_count": 2,
   "id": "90d60530",
   "metadata": {},
   "outputs": [
    {
     "name": "stdout",
     "output_type": "stream",
     "text": [
      "Num1=  10\n",
      "Num2=  30\n",
      "Add=  40\n"
     ]
    }
   ],
   "source": [
    "Num1=10\n",
    "Num2=30\n",
    "print(\"Num1= \",Num1)\n",
    "print(\"Num2= \", Num2)\n",
    "print(\"Add= \",Num1+Num2)"
   ]
  },
  {
   "cell_type": "code",
   "execution_count": 2,
   "id": "e77c80df",
   "metadata": {},
   "outputs": [
    {
     "name": "stdout",
     "output_type": "stream",
     "text": [
      "enter height in meter1.52\n",
      "enter weight60\n",
      "25.969529085872576\n",
      "OverWeight\n"
     ]
    }
   ],
   "source": [
    " #Body Mass Index formula = weight(kg)/ (height(m)^2)\n",
    "height=float(input(\"enter height in meter\"))\n",
    "weight=float(input(\"enter weight\"))\n",
    "BMIindex = weight/(height**2)\n",
    "print(BMIindex)\n",
    "if(BMIindex < 18):\n",
    "    print(\"Under Weight\")\n",
    "elif((BMIindex > 18) and (BMIindex<25)):\n",
    "    print(\"Healthy Weight\")\n",
    "elif((BMIindex > 25) and (BMIindex<30)):\n",
    "     print(\"OverWeight\")\n",
    "elif((BMIindex > 30) and (BMIindex<35)):\n",
    "     print(\"Very OverWeight\")\n",
    "elif((BMIindex > 35) and (BMIindex<40)):\n",
    "     print(\"Severly Obese\")\n",
    "else:\n",
    "     print(\"Murbidly Obese\")"
   ]
  },
  {
   "cell_type": "code",
   "execution_count": null,
   "id": "05050834",
   "metadata": {},
   "outputs": [],
   "source": []
  }
 ],
 "metadata": {
  "kernelspec": {
   "display_name": "Python 3 (ipykernel)",
   "language": "python",
   "name": "python3"
  },
  "language_info": {
   "codemirror_mode": {
    "name": "ipython",
    "version": 3
   },
   "file_extension": ".py",
   "mimetype": "text/x-python",
   "name": "python",
   "nbconvert_exporter": "python",
   "pygments_lexer": "ipython3",
   "version": "3.11.4"
  }
 },
 "nbformat": 4,
 "nbformat_minor": 5
}
