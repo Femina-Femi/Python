{
 "cells": [
  {
   "cell_type": "code",
   "execution_count": 6,
   "id": "b50f329c",
   "metadata": {},
   "outputs": [
    {
     "name": "stdout",
     "output_type": "stream",
     "text": [
      "value:10\n",
      "CORRECT\n"
     ]
    }
   ],
   "source": [
    "# print 'CORRECT' if i == 10\n",
    "i=int(input(\"value:\"))\n",
    "if (i==10):\n",
    "    print(\"CORRECT\")\n",
    "else:\n",
    "    print(\"INCORRECT\")\n"
   ]
  },
  {
   "cell_type": "code",
   "execution_count": 5,
   "id": "895fcfaa",
   "metadata": {},
   "outputs": [
    {
     "name": "stdout",
     "output_type": "stream",
     "text": [
      "Enter the password:HOPE@123\n",
      "Your password is correct\n"
     ]
    }
   ],
   "source": [
    " # Check the password, using if and else\n",
    "pwd = input(\"Enter the password:\")\n",
    "if(pwd=='HOPE@123'):\n",
    "    print(\"Your password is correct\")\n",
    "else:\n",
    "    print(\"Your password is Incorrect\")"
   ]
  },
  {
   "cell_type": "code",
   "execution_count": 10,
   "id": "4fb96ca0",
   "metadata": {},
   "outputs": [
    {
     "name": "stdout",
     "output_type": "stream",
     "text": [
      "age :59\n",
      "Citizen\n"
     ]
    }
   ],
   "source": [
    "# Catagory the people by their age like children, adult, citizen, senior citizen...\n",
    "age=int(input(\"age :\"))\n",
    "if(age<18):\n",
    "    print(\"children\")\n",
    "elif(age<35):\n",
    "    print(\"adult\")\n",
    "elif(age<60):\n",
    "    print(\"Citizen\")\n",
    "else:\n",
    "    print(\"Senior Citizen\")\n"
   ]
  },
  {
   "cell_type": "code",
   "execution_count": 12,
   "id": "37b2536a",
   "metadata": {},
   "outputs": [
    {
     "name": "stdout",
     "output_type": "stream",
     "text": [
      "Enter any number:3\n",
      "No is positive\n"
     ]
    }
   ],
   "source": [
    "# Find whether given number is positive or negative\n",
    "n=int(input(\"Enter any number:\"))\n",
    "if(n>0):\n",
    "    print(\"No is positive\")\n",
    "else:\n",
    "    print(\"No is Negative\")"
   ]
  },
  {
   "cell_type": "code",
   "execution_count": 14,
   "id": "6d79ad08",
   "metadata": {},
   "outputs": [
    {
     "name": "stdout",
     "output_type": "stream",
     "text": [
      "Enter a number to check:13\n",
      "Number is not Divisible by 5\n"
     ]
    }
   ],
   "source": [
    "# Check whether the given number is divisible by 5\n",
    "n1= int(input(\"Enter a number to check:\"))\n",
    "if(n1%5==0):\n",
    "    print(\"Number is Divisible by 5\")\n",
    "else:\n",
    "    print(\"Number is not Divisible by 5\")"
   ]
  },
  {
   "cell_type": "code",
   "execution_count": null,
   "id": "fae4fa42",
   "metadata": {},
   "outputs": [],
   "source": []
  }
 ],
 "metadata": {
  "kernelspec": {
   "display_name": "Python 3 (ipykernel)",
   "language": "python",
   "name": "python3"
  },
  "language_info": {
   "codemirror_mode": {
    "name": "ipython",
    "version": 3
   },
   "file_extension": ".py",
   "mimetype": "text/x-python",
   "name": "python",
   "nbconvert_exporter": "python",
   "pygments_lexer": "ipython3",
   "version": "3.11.4"
  }
 },
 "nbformat": 4,
 "nbformat_minor": 5
}
